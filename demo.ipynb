{
 "cells": [
  {
   "cell_type": "code",
   "execution_count": null,
   "metadata": {},
   "outputs": [],
   "source": [
    "import S"
   ]
  },
  {
   "attachments": {},
   "cell_type": "markdown",
   "metadata": {},
   "source": [
    "### Generating Synthetic Datasets\n",
    "We can create synthetic datasets that either have purely numerical, purely categorical, or mixed data. We generate a dataset with $K$ clusters and exactly $n$ data points by sampling approximately $n/K$ points in $\\mathbb{R}^K$ from normal distributions with means given by the $K$ canonical basis vectors of that space ($[1, 0, 0]$, $[0, 1, 0]$ and $[0, 0, 1]$ if $K = 3$, for example) and the standard deviation $\\sigma_{\\text{noise}}$, to be set in each experiment. To each of these (numerical) data points, we add $Q$ categorical variables, with $K$ possible categories each. The categories for each data point are chosen according to a value $p \\in [0, 1]$ that quantifies how much each category is solely attached to a cluster. If $p = 0$, each category can only be found in one specific cluster. If $p>0$, a category may be present in a cluster different from its attached cluster with probability $p$"
   ]
  },
  {
   "cell_type": "code",
   "execution_count": 1,
   "metadata": {},
   "outputs": [
    {
     "data": {
      "text/html": [
       "<div>\n",
       "<style scoped>\n",
       "    .dataframe tbody tr th:only-of-type {\n",
       "        vertical-align: middle;\n",
       "    }\n",
       "\n",
       "    .dataframe tbody tr th {\n",
       "        vertical-align: top;\n",
       "    }\n",
       "\n",
       "    .dataframe thead th {\n",
       "        text-align: right;\n",
       "    }\n",
       "</style>\n",
       "<table border=\"1\" class=\"dataframe\">\n",
       "  <thead>\n",
       "    <tr style=\"text-align: right;\">\n",
       "      <th></th>\n",
       "      <th>num_feat_0</th>\n",
       "      <th>num_feat_1</th>\n",
       "      <th>num_feat_2</th>\n",
       "      <th>cat_feat_0</th>\n",
       "      <th>cat_feat_1</th>\n",
       "      <th>target</th>\n",
       "    </tr>\n",
       "  </thead>\n",
       "  <tbody>\n",
       "    <tr>\n",
       "      <th>0</th>\n",
       "      <td>0.006731</td>\n",
       "      <td>0.511186</td>\n",
       "      <td>0.527471</td>\n",
       "      <td>0.0</td>\n",
       "      <td>1.0</td>\n",
       "      <td>0</td>\n",
       "    </tr>\n",
       "    <tr>\n",
       "      <th>1</th>\n",
       "      <td>0.242235</td>\n",
       "      <td>0.534272</td>\n",
       "      <td>0.229820</td>\n",
       "      <td>0.0</td>\n",
       "      <td>2.0</td>\n",
       "      <td>0</td>\n",
       "    </tr>\n",
       "    <tr>\n",
       "      <th>2</th>\n",
       "      <td>0.103889</td>\n",
       "      <td>0.306915</td>\n",
       "      <td>0.333870</td>\n",
       "      <td>0.0</td>\n",
       "      <td>0.0</td>\n",
       "      <td>0</td>\n",
       "    </tr>\n",
       "    <tr>\n",
       "      <th>3</th>\n",
       "      <td>-0.338709</td>\n",
       "      <td>0.133508</td>\n",
       "      <td>0.102437</td>\n",
       "      <td>0.0</td>\n",
       "      <td>0.0</td>\n",
       "      <td>0</td>\n",
       "    </tr>\n",
       "    <tr>\n",
       "      <th>4</th>\n",
       "      <td>0.100235</td>\n",
       "      <td>0.329353</td>\n",
       "      <td>0.125598</td>\n",
       "      <td>0.0</td>\n",
       "      <td>0.0</td>\n",
       "      <td>0</td>\n",
       "    </tr>\n",
       "    <tr>\n",
       "      <th>...</th>\n",
       "      <td>...</td>\n",
       "      <td>...</td>\n",
       "      <td>...</td>\n",
       "      <td>...</td>\n",
       "      <td>...</td>\n",
       "      <td>...</td>\n",
       "    </tr>\n",
       "    <tr>\n",
       "      <th>995</th>\n",
       "      <td>-0.258731</td>\n",
       "      <td>0.860525</td>\n",
       "      <td>1.011362</td>\n",
       "      <td>2.0</td>\n",
       "      <td>2.0</td>\n",
       "      <td>2</td>\n",
       "    </tr>\n",
       "    <tr>\n",
       "      <th>996</th>\n",
       "      <td>-0.279953</td>\n",
       "      <td>0.836799</td>\n",
       "      <td>1.475038</td>\n",
       "      <td>2.0</td>\n",
       "      <td>2.0</td>\n",
       "      <td>2</td>\n",
       "    </tr>\n",
       "    <tr>\n",
       "      <th>997</th>\n",
       "      <td>-0.162176</td>\n",
       "      <td>0.848644</td>\n",
       "      <td>0.708486</td>\n",
       "      <td>2.0</td>\n",
       "      <td>2.0</td>\n",
       "      <td>2</td>\n",
       "    </tr>\n",
       "    <tr>\n",
       "      <th>998</th>\n",
       "      <td>-0.108893</td>\n",
       "      <td>0.948853</td>\n",
       "      <td>0.824503</td>\n",
       "      <td>2.0</td>\n",
       "      <td>2.0</td>\n",
       "      <td>2</td>\n",
       "    </tr>\n",
       "    <tr>\n",
       "      <th>999</th>\n",
       "      <td>-0.065775</td>\n",
       "      <td>0.883592</td>\n",
       "      <td>0.951862</td>\n",
       "      <td>2.0</td>\n",
       "      <td>2.0</td>\n",
       "      <td>2</td>\n",
       "    </tr>\n",
       "  </tbody>\n",
       "</table>\n",
       "<p>1000 rows × 6 columns</p>\n",
       "</div>"
      ],
      "text/plain": [
       "     num_feat_0  num_feat_1  num_feat_2 cat_feat_0 cat_feat_1  target\n",
       "0      0.006731    0.511186    0.527471        0.0        1.0       0\n",
       "1      0.242235    0.534272    0.229820        0.0        2.0       0\n",
       "2      0.103889    0.306915    0.333870        0.0        0.0       0\n",
       "3     -0.338709    0.133508    0.102437        0.0        0.0       0\n",
       "4      0.100235    0.329353    0.125598        0.0        0.0       0\n",
       "..          ...         ...         ...        ...        ...     ...\n",
       "995   -0.258731    0.860525    1.011362        2.0        2.0       2\n",
       "996   -0.279953    0.836799    1.475038        2.0        2.0       2\n",
       "997   -0.162176    0.848644    0.708486        2.0        2.0       2\n",
       "998   -0.108893    0.948853    0.824503        2.0        2.0       2\n",
       "999   -0.065775    0.883592    0.951862        2.0        2.0       2\n",
       "\n",
       "[1000 rows x 6 columns]"
      ]
     },
     "execution_count": 1,
     "metadata": {},
     "output_type": "execute_result"
    }
   ],
   "source": [
    "from examples.synthetic_dataset_generation import generate_mixed_dataset\n",
    "\n",
    "#Generate a synthetic dataset with 2 numerical features, 2 categorical features, 3 clusters, 0.1 noise\n",
    "df = generate_mixed_dataset(n_samples=1000, n_numerical_features=3, n_categorical_features=2, n_clusters=3, p=0.1, save=False)\n",
    "df"
   ]
  },
  {
   "attachments": {},
   "cell_type": "markdown",
   "metadata": {},
   "source": [
    "### Using SpecMix\n",
    "\n",
    "Our implementation of SpecMix uses sklearn's BaseClassifier, such that it behaves similarly to other classifiers in sklearn."
   ]
  },
  {
   "cell_type": "code",
   "execution_count": 2,
   "metadata": {},
   "outputs": [
    {
     "data": {
      "text/plain": [
       "array([[1.        , 0.37360046, 0.70477856, ..., 1.        , 0.        ,\n",
       "        0.        ],\n",
       "       [0.37360046, 1.        , 0.67091724, ..., 0.        , 1.        ,\n",
       "        0.        ],\n",
       "       [0.70477856, 0.67091724, 1.        , ..., 0.        , 0.        ,\n",
       "        1.        ],\n",
       "       ...,\n",
       "       [1.        , 0.        , 0.        , ..., 0.        , 0.        ,\n",
       "        0.        ],\n",
       "       [0.        , 1.        , 0.        , ..., 0.        , 0.        ,\n",
       "        0.        ],\n",
       "       [0.        , 0.        , 1.        , ..., 0.        , 0.        ,\n",
       "        0.        ]])"
      ]
     },
     "execution_count": 2,
     "metadata": {},
     "output_type": "execute_result"
    }
   ],
   "source": [
    "from SpecMix.specmix import SpecMix\n",
    "\n",
    "#Initialize the SpecMix algorithm with 3 clusters\n",
    "specmix = SpecMix(n_clusters=3, random_state=0)\n",
    "\n",
    "#Fit the algorithm to the dataset\n",
    "specmix.fit(df)\n",
    "\n",
    "#Observe the adjacency matrix created by the algorithm\n",
    "specmix.adj_matrix_"
   ]
  },
  {
   "cell_type": "code",
   "execution_count": 1,
   "metadata": {},
   "outputs": [
    {
     "ename": "ModuleNotFoundError",
     "evalue": "No module named 'kmodes'",
     "output_type": "error",
     "traceback": [
      "\u001b[1;31m---------------------------------------------------------------------------\u001b[0m",
      "\u001b[1;31mModuleNotFoundError\u001b[0m                       Traceback (most recent call last)",
      "\u001b[1;32m~\\AppData\\Local\\Temp\\ipykernel_56368\\3683929605.py\u001b[0m in \u001b[0;36m<module>\u001b[1;34m\u001b[0m\n\u001b[1;32m----> 1\u001b[1;33m \u001b[1;32mfrom\u001b[0m \u001b[0mexamples\u001b[0m\u001b[1;33m.\u001b[0m\u001b[0mbenchmark_algorithms\u001b[0m \u001b[1;32mimport\u001b[0m \u001b[0mpurity_score\u001b[0m\u001b[1;33m\u001b[0m\u001b[1;33m\u001b[0m\u001b[0m\n\u001b[0m\u001b[0;32m      2\u001b[0m \u001b[1;31m#Calculate the purity score of the algorithm\u001b[0m\u001b[1;33m\u001b[0m\u001b[1;33m\u001b[0m\u001b[1;33m\u001b[0m\u001b[0m\n\u001b[0;32m      3\u001b[0m \u001b[0mpredicted_labels\u001b[0m \u001b[1;33m=\u001b[0m \u001b[0mspecmix\u001b[0m\u001b[1;33m.\u001b[0m\u001b[0mlabels_\u001b[0m\u001b[1;33m\u001b[0m\u001b[1;33m\u001b[0m\u001b[0m\n\u001b[0;32m      4\u001b[0m \u001b[0mtarget_labels\u001b[0m \u001b[1;33m=\u001b[0m \u001b[0mdf\u001b[0m\u001b[1;33m[\u001b[0m\u001b[1;34m'target'\u001b[0m\u001b[1;33m]\u001b[0m\u001b[1;33m.\u001b[0m\u001b[0mtolist\u001b[0m\u001b[1;33m(\u001b[0m\u001b[1;33m)\u001b[0m\u001b[1;33m\u001b[0m\u001b[1;33m\u001b[0m\u001b[0m\n\u001b[0;32m      5\u001b[0m \u001b[0mpurity_score\u001b[0m\u001b[1;33m(\u001b[0m\u001b[0mtarget_labels\u001b[0m\u001b[1;33m,\u001b[0m \u001b[0mpredicted_labels\u001b[0m\u001b[1;33m)\u001b[0m\u001b[1;33m\u001b[0m\u001b[1;33m\u001b[0m\u001b[0m\n",
      "\u001b[1;32mc:\\Users\\dylan\\SpecMix\\examples\\benchmark_algorithms.py\u001b[0m in \u001b[0;36m<module>\u001b[1;34m\u001b[0m\n\u001b[0;32m      1\u001b[0m \u001b[1;32mfrom\u001b[0m \u001b[0msklearn\u001b[0m\u001b[1;33m.\u001b[0m\u001b[0mmetrics\u001b[0m \u001b[1;32mimport\u001b[0m \u001b[0mjaccard_score\u001b[0m\u001b[1;33m,\u001b[0m \u001b[0msilhouette_score\u001b[0m\u001b[1;33m,\u001b[0m \u001b[0mcalinski_harabasz_score\u001b[0m\u001b[1;33m,\u001b[0m \u001b[0madjusted_rand_score\u001b[0m\u001b[1;33m,\u001b[0m \u001b[0mhomogeneity_score\u001b[0m\u001b[1;33m,\u001b[0m \u001b[0mconfusion_matrix\u001b[0m\u001b[1;33m\u001b[0m\u001b[1;33m\u001b[0m\u001b[0m\n\u001b[0;32m      2\u001b[0m \u001b[1;32mfrom\u001b[0m \u001b[0mitertools\u001b[0m \u001b[1;32mimport\u001b[0m \u001b[0mpermutations\u001b[0m\u001b[1;33m\u001b[0m\u001b[1;33m\u001b[0m\u001b[0m\n\u001b[1;32m----> 3\u001b[1;33m \u001b[1;32mfrom\u001b[0m \u001b[0mkmodes\u001b[0m\u001b[1;33m.\u001b[0m\u001b[0mkprototypes\u001b[0m \u001b[1;32mimport\u001b[0m \u001b[0mKPrototypes\u001b[0m\u001b[1;33m\u001b[0m\u001b[1;33m\u001b[0m\u001b[0m\n\u001b[0m\u001b[0;32m      4\u001b[0m \u001b[1;32mfrom\u001b[0m \u001b[0mkmodes\u001b[0m\u001b[1;33m.\u001b[0m\u001b[0mkmodes\u001b[0m \u001b[1;32mimport\u001b[0m \u001b[0mKModes\u001b[0m\u001b[1;33m\u001b[0m\u001b[1;33m\u001b[0m\u001b[0m\n\u001b[0;32m      5\u001b[0m \u001b[1;32mfrom\u001b[0m \u001b[0mstepmix\u001b[0m\u001b[1;33m.\u001b[0m\u001b[0mstepmix\u001b[0m \u001b[1;32mimport\u001b[0m \u001b[0mStepMix\u001b[0m\u001b[1;33m\u001b[0m\u001b[1;33m\u001b[0m\u001b[0m\n",
      "\u001b[1;31mModuleNotFoundError\u001b[0m: No module named 'kmodes'"
     ]
    }
   ],
   "source": [
    "from examples.benchmark_algorithms import purity_score\n",
    "#Calculate the purity score of the algorithm\n",
    "predicted_labels = specmix.labels_\n",
    "target_labels = df['target'].tolist()\n",
    "purity_score(target_labels, predicted_labels) "
   ]
  }
 ],
 "metadata": {
  "kernelspec": {
   "display_name": "Python 3",
   "language": "python",
   "name": "python3"
  },
  "language_info": {
   "codemirror_mode": {
    "name": "ipython",
    "version": 3
   },
   "file_extension": ".py",
   "mimetype": "text/x-python",
   "name": "python",
   "nbconvert_exporter": "python",
   "pygments_lexer": "ipython3",
   "version": "3.8.8"
  },
  "orig_nbformat": 4
 },
 "nbformat": 4,
 "nbformat_minor": 2
}
